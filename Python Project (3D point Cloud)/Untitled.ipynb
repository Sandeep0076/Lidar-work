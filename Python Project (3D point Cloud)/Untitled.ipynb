{
 "cells": [
  {
   "cell_type": "code",
   "execution_count": 1,
   "metadata": {},
   "outputs": [
    {
     "ename": "AttributeError",
     "evalue": "'RectROI' object has no attribute '_setView'",
     "output_type": "error",
     "traceback": [
      "\u001b[1;31m---------------------------------------------------------------------------\u001b[0m",
      "\u001b[1;31mAttributeError\u001b[0m                            Traceback (most recent call last)",
      "\u001b[1;32m<ipython-input-1-eec85d245df0>\u001b[0m in \u001b[0;36m<module>\u001b[1;34m\u001b[0m\n\u001b[0;32m     39\u001b[0m         \u001b[0mw\u001b[0m\u001b[1;33m.\u001b[0m\u001b[0maddItem\u001b[0m\u001b[1;33m(\u001b[0m\u001b[0mroi\u001b[0m\u001b[1;33m)\u001b[0m\u001b[1;33m\u001b[0m\u001b[1;33m\u001b[0m\u001b[0m\n\u001b[0;32m     40\u001b[0m \u001b[1;33m\u001b[0m\u001b[0m\n\u001b[1;32m---> 41\u001b[1;33m \u001b[0mupdate\u001b[0m\u001b[1;33m(\u001b[0m\u001b[0mrois\u001b[0m\u001b[1;33m[\u001b[0m\u001b[1;33m-\u001b[0m\u001b[1;36m1\u001b[0m\u001b[1;33m]\u001b[0m\u001b[1;33m)\u001b[0m\u001b[1;33m\u001b[0m\u001b[1;33m\u001b[0m\u001b[0m\n\u001b[0m\u001b[0;32m     42\u001b[0m \u001b[1;33m\u001b[0m\u001b[0m\n\u001b[0;32m     43\u001b[0m \u001b[1;33m\u001b[0m\u001b[0m\n",
      "\u001b[1;32m<ipython-input-1-eec85d245df0>\u001b[0m in \u001b[0;36mupdate\u001b[1;34m(roi)\u001b[0m\n\u001b[0;32m     37\u001b[0m     \u001b[1;32mfor\u001b[0m \u001b[0mroi\u001b[0m \u001b[1;32min\u001b[0m \u001b[0mrois\u001b[0m\u001b[1;33m:\u001b[0m\u001b[1;33m\u001b[0m\u001b[1;33m\u001b[0m\u001b[0m\n\u001b[0;32m     38\u001b[0m         \u001b[0mroi\u001b[0m\u001b[1;33m.\u001b[0m\u001b[0msigRegionChanged\u001b[0m\u001b[1;33m.\u001b[0m\u001b[0mconnect\u001b[0m\u001b[1;33m(\u001b[0m\u001b[0mupdate\u001b[0m\u001b[1;33m)\u001b[0m\u001b[1;33m\u001b[0m\u001b[1;33m\u001b[0m\u001b[0m\n\u001b[1;32m---> 39\u001b[1;33m         \u001b[0mw\u001b[0m\u001b[1;33m.\u001b[0m\u001b[0maddItem\u001b[0m\u001b[1;33m(\u001b[0m\u001b[0mroi\u001b[0m\u001b[1;33m)\u001b[0m\u001b[1;33m\u001b[0m\u001b[1;33m\u001b[0m\u001b[0m\n\u001b[0m\u001b[0;32m     40\u001b[0m \u001b[1;33m\u001b[0m\u001b[0m\n\u001b[0;32m     41\u001b[0m \u001b[0mupdate\u001b[0m\u001b[1;33m(\u001b[0m\u001b[0mrois\u001b[0m\u001b[1;33m[\u001b[0m\u001b[1;33m-\u001b[0m\u001b[1;36m1\u001b[0m\u001b[1;33m]\u001b[0m\u001b[1;33m)\u001b[0m\u001b[1;33m\u001b[0m\u001b[1;33m\u001b[0m\u001b[0m\n",
      "\u001b[1;32m~\\Anaconda3\\lib\\site-packages\\pyqtgraph\\opengl\\GLViewWidget.py\u001b[0m in \u001b[0;36maddItem\u001b[1;34m(self, item)\u001b[0m\n\u001b[0;32m     57\u001b[0m                 \u001b[0mself\u001b[0m\u001b[1;33m.\u001b[0m\u001b[0mcheckOpenGLVersion\u001b[0m\u001b[1;33m(\u001b[0m\u001b[1;34m'Error while adding item %s to GLViewWidget.'\u001b[0m \u001b[1;33m%\u001b[0m \u001b[0mstr\u001b[0m\u001b[1;33m(\u001b[0m\u001b[0mitem\u001b[0m\u001b[1;33m)\u001b[0m\u001b[1;33m)\u001b[0m\u001b[1;33m\u001b[0m\u001b[1;33m\u001b[0m\u001b[0m\n\u001b[0;32m     58\u001b[0m \u001b[1;33m\u001b[0m\u001b[0m\n\u001b[1;32m---> 59\u001b[1;33m         \u001b[0mitem\u001b[0m\u001b[1;33m.\u001b[0m\u001b[0m_setView\u001b[0m\u001b[1;33m(\u001b[0m\u001b[0mself\u001b[0m\u001b[1;33m)\u001b[0m\u001b[1;33m\u001b[0m\u001b[1;33m\u001b[0m\u001b[0m\n\u001b[0m\u001b[0;32m     60\u001b[0m         \u001b[1;31m#print \"set view\", item, self, item.view()\u001b[0m\u001b[1;33m\u001b[0m\u001b[1;33m\u001b[0m\u001b[1;33m\u001b[0m\u001b[0m\n\u001b[0;32m     61\u001b[0m         \u001b[0mself\u001b[0m\u001b[1;33m.\u001b[0m\u001b[0mupdate\u001b[0m\u001b[1;33m(\u001b[0m\u001b[1;33m)\u001b[0m\u001b[1;33m\u001b[0m\u001b[1;33m\u001b[0m\u001b[0m\n",
      "\u001b[1;31mAttributeError\u001b[0m: 'RectROI' object has no attribute '_setView'"
     ]
    }
   ],
   "source": [
    "import pyqtgraph as pg\n",
    "from pyqtgraph.Qt import QtCore, QtGui\n",
    "import pyqtgraph.opengl as gl\n",
    "import numpy as np\n",
    "import pandas as pd\n",
    "\n",
    "app = QtGui.QApplication([])\n",
    "w = gl.GLViewWidget()\n",
    "w.opts['distance'] = 20\n",
    "w.show()\n",
    "w.setWindowTitle('pyqtgraph example: GLScatterPlotItem')\n",
    "\n",
    "g = gl.GLGridItem()\n",
    "w.addItem(g)\n",
    "\n",
    "\n",
    "\n",
    "\n",
    "\n",
    "w = pg.GraphicsWindow(size=(1000,800), border=True)\n",
    "w1 = w.addLayout(row=0, col=0)\n",
    "v1a = w1.addViewBox() # two different boxes, one displays the image , \n",
    "img1a = gl.GLScatterPlotItem(arr)\n",
    "v1a.addItem(img1a) #image displayed in first box\n",
    "v1a.disableAutoRange('xy')\n",
    "v1a.autoRange()\n",
    "\n",
    "##\n",
    "##  First example is a set of points with pxMode=False\n",
    "##  These demonstrate the ability to have points with real size down to a very small scale \n",
    "## \n",
    "file = r\"C:\\Users\\Sandeep\\Documents\\Python Project\\Python Project (3D point Cloud)\\dataset.csv\"\n",
    "readfile = pd.read_csv(file)\n",
    "readfile = readfile[['X','Y','Z']]\n",
    "arr = np.array(readfile)\n",
    "\n",
    "\n",
    "\n",
    "\n",
    "#for creating a rectangle which can be selected , shape can be changed and  \n",
    "rois = []\n",
    "rois.append(pg.RectROI([20, 20], [20, 20], pen=(0,9))) #The pen to use when drawing the shape of the ROI.\n",
    "rois[-1].addRotateHandle([1,0], [0.5, 0.5])\n",
    "\n",
    "\n",
    "#update function for reflecting the changes done in one window into the other\n",
    "def update(roi):\n",
    "    for roi in rois:\n",
    "        roi.sigRegionChanged.connect(update)\n",
    "        w.addItem(roi)\n",
    "\n",
    "update(rois[-1])\n",
    "\n",
    "\n",
    "\n",
    "sp1 = gl.GLScatterPlotItem(pos=arr)\n",
    "w.addItem(sp1)\n",
    "## Start Qt event loop unless running in interactive mode.\n",
    "\n",
    "if __name__ == '__main__':\n",
    "    import sys\n",
    "    if (sys.flags.interactive != 1) or not hasattr(QtCore, 'PYQT_VERSION'):\n",
    "        QtGui.QApplication.instance().exec_()"
   ]
  },
  {
   "cell_type": "code",
   "execution_count": null,
   "metadata": {},
   "outputs": [],
   "source": []
  }
 ],
 "metadata": {
  "kernelspec": {
   "display_name": "Python 3",
   "language": "python",
   "name": "python3"
  },
  "language_info": {
   "codemirror_mode": {
    "name": "ipython",
    "version": 3
   },
   "file_extension": ".py",
   "mimetype": "text/x-python",
   "name": "python",
   "nbconvert_exporter": "python",
   "pygments_lexer": "ipython3",
   "version": "3.7.3"
  }
 },
 "nbformat": 4,
 "nbformat_minor": 2
}
