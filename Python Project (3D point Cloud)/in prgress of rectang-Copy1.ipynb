{
 "cells": [
  {
   "cell_type": "markdown",
   "metadata": {},
   "source": [
    "#  <c>Program for displaying points inside the rectange and its vincity</c>"
   ]
  },
  {
   "cell_type": "code",
   "execution_count": 1,
   "metadata": {},
   "outputs": [],
   "source": [
    "import pandas as pd \n",
    "import random\n",
    "import numpy as np\n",
    "import matplotlib.pyplot as plt \n",
    "import matplotlib.patches as patches\n",
    "#import mpl_toolkits.mplot3d as axes3d\n",
    "from mpldatacursor import datacursor \n",
    "#%matplotlib notebook"
   ]
  },
  {
   "cell_type": "markdown",
   "metadata": {},
   "source": [
    "## Point cloud"
   ]
  },
  {
   "cell_type": "code",
   "execution_count": 2,
   "metadata": {},
   "outputs": [
    {
     "name": "stdout",
     "output_type": "stream",
     "text": [
      "Enter the cordinates of the rectangle\n",
      "For x cordinate, enter any value between 0.01 and 0.96\n",
      "For y cordinate, enter any value between 0.05 and 0.99\n"
     ]
    }
   ],
   "source": [
    "#point cloud coordinates\n",
    "points = [(random.random(), random.random()) for i in range(20)]\n",
    "pts = np.array(points)\n",
    "\n",
    "# X and Y coordinates that is ti be fed to scatter plot\n",
    "xcord =[row[0] for row in pts]\n",
    "ycord= [row[1] for row in pts]\n",
    "\n",
    "# finding range to give a user to create a rectangle\n",
    "minXcord= (min(xcord))\n",
    "maxXcord= (max(xcord))\n",
    "minYcord= (min(ycord))\n",
    "maxYcord= (max(ycord))\n",
    "\n",
    "#suggesting range for coordinates to user\n",
    "print(\"Enter the cordinates of the rectangle\")\n",
    "print(\"For x cordinate, enter any value between \" + str(round(minXcord, 2)) + ' and ' + str(round(maxXcord, 2)))\n",
    "print(\"For y cordinate, enter any value between \" + str(round(minYcord, 2)) + ' and ' + str(round(maxYcord, 2)))"
   ]
  },
  {
   "cell_type": "markdown",
   "metadata": {},
   "source": [
    "## Ask for co ordinates for the rectangle "
   ]
  },
  {
   "cell_type": "code",
   "execution_count": 3,
   "metadata": {},
   "outputs": [
    {
     "name": "stdout",
     "output_type": "stream",
     "text": [
      "x1 lower cordinate: .3\n",
      "x2 upper cordinate: .4\n",
      "y1 lower cordinate: .5\n",
      "y2 upper cordinate: .7\n"
     ]
    }
   ],
   "source": [
    "numx1 = input('x1 lower cordinate: ')\n",
    "numx2 = input('x2 upper cordinate: ')\n",
    "numy1 = input('y1 lower cordinate: ')\n",
    "numy2 = input('y2 upper cordinate: ')\n",
    "numx1, numx2 = sorted([float(numx1), float(numx2)])\n",
    "numy1, numy2 = sorted([float(numx1), float(numy2)])"
   ]
  },
  {
   "cell_type": "markdown",
   "metadata": {},
   "source": [
    "## Calculate no. of Cordinates inside Rectange"
   ]
  },
  {
   "cell_type": "code",
   "execution_count": 4,
   "metadata": {},
   "outputs": [],
   "source": [
    "ll = np.array([numx1, numy1])  # lower left cordinate of rectangel\n",
    "ur = np.array([numx2, numy2]) # upper right cordinate of rectangel\n",
    "inidx = np.all(np.logical_and(ll <= pts, pts <= ur), axis=1)\n",
    "inbox = pts[inidx]\n",
    "outbox = pts[np.logical_not(inidx)]\n"
   ]
  },
  {
   "cell_type": "markdown",
   "metadata": {},
   "source": [
    "## Calculate threshhold"
   ]
  },
  {
   "cell_type": "code",
   "execution_count": 14,
   "metadata": {},
   "outputs": [],
   "source": [
    "thnumx1 = numx1 - .2\n",
    "thnumx2 = numx2 + .2\n",
    "thnumy1 = numy1 -.2\n",
    "thnumy2 = numy2 + .2\n",
    "\n",
    "tll = np.array([thnumx1, thnumy1])  # lower left cordinate of rectangel\n",
    "tur = np.array([thnumx2, thnumy2]) # upper right cordinate of rectangel\n",
    "tinidx = np.all(np.logical_and(tll <= pts, pts <= tur), axis=1)\n",
    "tinbox = pts[tinidx]\n",
    "toutbox = pts[np.logical_not(tinidx)]\n"
   ]
  },
  {
   "cell_type": "code",
   "execution_count": 13,
   "metadata": {},
   "outputs": [
    {
     "name": "stdout",
     "output_type": "stream",
     "text": [
      "7\n",
      "------------------\n",
      "1\n",
      "------------------\n",
      "12\n",
      "[[0.33441673 0.88951888]\n",
      " [0.31529172 0.55431088]\n",
      " [0.22849263 0.6845904 ]\n",
      " [0.51179991 0.46052528]\n",
      " [0.20617526 0.69265886]\n",
      " [0.58869768 0.31790218]\n",
      " [0.31604027 0.84934407]]\n",
      "------------------\n",
      "[[0.31529172 0.55431088]]\n",
      "------------------\n",
      "[0.20617526 0.22849263 0.31604027 0.31790218 0.33441673 0.46052528\n",
      " 0.51179991 0.58869768 0.6845904  0.69265886 0.84934407 0.88951888]\n"
     ]
    }
   ],
   "source": [
    "print(str(len(tinbox)))\n",
    "print('------------------')\n",
    "print(str(len(inbox)))\n",
    "print('------------------')\n",
    "print(str(len(nearbypoints)))\n",
    "\n",
    "print(tinbox)\n",
    "print('------------------')\n",
    "print(inbox)\n",
    "print('------------------')\n",
    "print(nearbypoints)\n",
    "\n"
   ]
  },
  {
   "cell_type": "markdown",
   "metadata": {},
   "source": [
    "## Plotting points and drawing rectangle"
   ]
  },
  {
   "cell_type": "code",
   "execution_count": 7,
   "metadata": {},
   "outputs": [
    {
     "data": {
      "image/png": "[encoded data removed]",
      "text/plain": [
       "<Figure size 576x432 with 1 Axes>"
      ]
     },
     "metadata": {
      "needs_background": "light"
     },
     "output_type": "display_data"
    },
    {
     "name": "stdout",
     "output_type": "stream",
     "text": [
      "cordinates inside rectangle = 1\n",
      "Total no. of points = 19\n"
     ]
    }
   ],
   "source": [
    "figure1 = plt.figure(figsize=(8,6))\n",
    "ax = figure1.add_subplot(111)\n",
    "\n",
    "#Create a Rectangle patch\n",
    "#Rectangle(xy, width, height, angle=0.0, **kwargs)\n",
    "#rect cordinates a,b,c,d\n",
    "# a =numx1,numy1    b =numx2,numy1    c =numx2,numy2   d = numx1,numy2\n",
    "\n",
    "width1  = float(numx2)-float(numx1)\n",
    "height1 = float(numy2)-float(numy1)\n",
    "\n",
    "width2  = float(thnumx2)-float(thnumx1)\n",
    "height2 = float(thnumy2)-float(thnumy1)\n",
    "\n",
    "\n",
    "rect1 = patches.Rectangle((numx1,numy1),width1,height1,linewidth=1,edgecolor='r',facecolor='none')\n",
    "rect2 = patches.Rectangle((thnumx1,thnumy1),width2,height2,linewidth=1,edgecolor='r',facecolor='none')\n",
    "\n",
    "# Add the patch to the Axes\n",
    "ax.add_patch(rect1)\n",
    "ax.add_patch(rect2)\n",
    "\n",
    "plt.scatter(xcord,ycord,s=2)\n",
    "plt.show()\n",
    "\n",
    "print('cordinates inside rectangle = ' + str(len(inbox)))\n",
    "print('Total no. of points = ' + str(len(outbox)))\n"
   ]
  },
  {
   "cell_type": "code",
   "execution_count": null,
   "metadata": {},
   "outputs": [],
   "source": []
  },
  {
   "cell_type": "code",
   "execution_count": null,
   "metadata": {},
   "outputs": [],
   "source": []
  }
 ],
 "metadata": {
  "kernelspec": {
   "display_name": "Python 3",
   "language": "python",
   "name": "python3"
  },
  "language_info": {
   "codemirror_mode": {
    "name": "ipython",
    "version": 3
   },
   "file_extension": ".py",
   "mimetype": "text/x-python",
   "name": "python",
   "nbconvert_exporter": "python",
   "pygments_lexer": "ipython3",
   "version": "3.7.3"
  }
 },
 "nbformat": 4,
 "nbformat_minor": 2
}
