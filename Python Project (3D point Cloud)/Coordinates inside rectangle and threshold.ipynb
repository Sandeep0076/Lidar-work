{
 "cells": [
  {
   "cell_type": "markdown",
   "metadata": {},
   "source": [
    "#  <c>Program for displaying points inside the rectange and its vincity</c>"
   ]
  },
  {
   "cell_type": "code",
   "execution_count": 1,
   "metadata": {},
   "outputs": [],
   "source": [
    "import pandas as pd \n",
    "import random\n",
    "import numpy as np\n",
    "import matplotlib.pyplot as plt \n",
    "import matplotlib.patches as patches\n"
   ]
  },
  {
   "cell_type": "markdown",
   "metadata": {},
   "source": [
    "## Point cloud"
   ]
  },
  {
   "cell_type": "code",
   "execution_count": 2,
   "metadata": {},
   "outputs": [
    {
     "name": "stdout",
     "output_type": "stream",
     "text": [
      "Enter the cordinates of the rectangle\n",
      "For x cordinate, enter any value between 0.03 and 0.87\n",
      "For y cordinate, enter any value between 0.06 and 0.87\n"
     ]
    }
   ],
   "source": [
    "#point cloud coordinates\n",
    "points = [(random.random(), random.random()) for i in range(20)]\n",
    "pts = np.array(points)\n",
    "\n",
    "# X and Y coordinates that is ti be fed to scatter plot\n",
    "xcord =[row[0] for row in pts]\n",
    "ycord= [row[1] for row in pts]\n",
    "\n",
    "# finding range to give a user to create a rectangle\n",
    "minXcord= (min(xcord))\n",
    "maxXcord= (max(xcord))\n",
    "minYcord= (min(ycord))\n",
    "maxYcord= (max(ycord))\n",
    "\n",
    "#suggesting range for coordinates to user\n",
    "print(\"Enter the cordinates of the rectangle\")\n",
    "print(\"For x cordinate, enter any value between \" + str(round(minXcord, 2)) + ' and ' + str(round(maxXcord, 2)))\n",
    "print(\"For y cordinate, enter any value between \" + str(round(minYcord, 2)) + ' and ' + str(round(maxYcord, 2)))"
   ]
  },
  {
   "cell_type": "code",
   "execution_count": 3,
   "metadata": {},
   "outputs": [
    {
     "data": {
      "text/plain": [
       "[(0.5903411766893009, 0.4475796284706123),\n",
       " (0.4522682234599502, 0.2860366087894193),\n",
       " (0.2202467291058401, 0.8172216257397841),\n",
       " (0.5600004257648806, 0.1125227914793403),\n",
       " (0.845830578461582, 0.8659844976594684),\n",
       " (0.7980398970226142, 0.19843575812210612),\n",
       " (0.5586195089986083, 0.8381386166375467),\n",
       " (0.20698971620766515, 0.3028229770549409),\n",
       " (0.5728146318741213, 0.5918525508975062),\n",
       " (0.8728522383927041, 0.3974112911684109),\n",
       " (0.33984780756719124, 0.8061330081858887),\n",
       " (0.8094214210818711, 0.2855055188452903),\n",
       " (0.6027005188418089, 0.5574627036271826),\n",
       " (0.8043677244506473, 0.2713744205224652),\n",
       " (0.7642522137723601, 0.05999132248971095),\n",
       " (0.16699158913952927, 0.397937059919402),\n",
       " (0.03410163149155521, 0.30225432267537755),\n",
       " (0.3700551297426924, 0.26306490032164853),\n",
       " (0.47530725062311263, 0.3985925251294492),\n",
       " (0.27010016908355394, 0.6862364540657656)]"
      ]
     },
     "execution_count": 3,
     "metadata": {},
     "output_type": "execute_result"
    }
   ],
   "source": [
    "points"
   ]
  },
  {
   "cell_type": "markdown",
   "metadata": {},
   "source": [
    "## Ask for co ordinates for the rectangle "
   ]
  },
  {
   "cell_type": "code",
   "execution_count": null,
   "metadata": {},
   "outputs": [],
   "source": [
    "# i didnt added checks that the entered values are within bound for now as i am working on the graphical interface. so just testing within .1 to .9\n",
    "\n",
    "numx1 = input('x1 lower cordinate: ')\n",
    "numx2 = input('x2 upper cordinate: ')\n",
    "numy1 = input('y1 lower cordinate: ')\n",
    "numy2 = input('y2 upper cordinate: ')\n",
    "numx1, numx2 = sorted([float(numx1), float(numx2)])\n",
    "numy1, numy2 = sorted([float(numx1), float(numy2)])"
   ]
  },
  {
   "cell_type": "markdown",
   "metadata": {},
   "source": [
    "## Calculate no. of Cordinates inside Rectange"
   ]
  },
  {
   "cell_type": "code",
   "execution_count": null,
   "metadata": {},
   "outputs": [],
   "source": [
    "ll = np.array([numx1, numy1])  # lower left cordinate of rectangel\n",
    "ur = np.array([numx2, numy2]) # upper right cordinate of rectangel\n",
    "inidx = np.all(np.logical_and(ll <= pts, pts <= ur), axis=1)\n",
    "inbox = pts[inidx] #points inside rectangle\n",
    "outbox = pts[np.logical_not(inidx)] # points outside the rectangle\n"
   ]
  },
  {
   "cell_type": "markdown",
   "metadata": {},
   "source": [
    "## Calculate threshhold"
   ]
  },
  {
   "cell_type": "code",
   "execution_count": null,
   "metadata": {},
   "outputs": [],
   "source": [
    "#threshhold = input('Threshhold :  ')\n",
    "threshhold = .2  #default taken .2, can take any other value too\n",
    "\n",
    "# .2 means it will show all  the cordinates which are .2 metrics closer to the border of the rectangle\n",
    "thnumx1 = numx1 - threshhold\n",
    "thnumx2 = numx2 + threshhold\n",
    "thnumy1 = numy1 - threshhold\n",
    "thnumy2 = numy2 + threshhold\n",
    "\n",
    "tll = np.array([thnumx1, thnumy1])  # lower left cordinate of rectangel\n",
    "tur = np.array([thnumx2, thnumy2]) # upper right cordinate of rectangel\n",
    "var1 = np.all(np.logical_and(tll <= outbox, outbox <= tur), axis=1)\n",
    "nearbypoints = outbox[var1] # points near the borders of rectangle"
   ]
  },
  {
   "cell_type": "markdown",
   "metadata": {},
   "source": [
    "## Plotting points and drawing rectangle"
   ]
  },
  {
   "cell_type": "code",
   "execution_count": null,
   "metadata": {},
   "outputs": [],
   "source": [
    "figure1 = plt.figure(figsize=(8,6))\n",
    "ax = figure1.add_subplot(111)\n",
    "\n",
    "#Create a Rectangle patch\n",
    "#Rectangle(xy, width, height, angle=0.0, **kwargs)\n",
    "#rect cordinates a,b,c,d\n",
    "# a =numx1,numy1    b =numx2,numy1    c =numx2,numy2   d = numx1,numy2\n",
    "\n",
    "width1  = float(numx2)-float(numx1)\n",
    "height1 = float(numy2)-float(numy1)\n",
    "\n",
    "width2  = float(thnumx2)-float(thnumx1)\n",
    "height2 = float(thnumy2)-float(thnumy1)\n",
    "\n",
    "\n",
    "rect1 = patches.Rectangle((numx1,numy1),width1,height1,linewidth=1,edgecolor='r',facecolor='none')\n",
    "# drew 2nd rectangle just for reference. we can comment the recangle like, still it will show all the nearby points\n",
    "rect2 = patches.Rectangle((thnumx1,thnumy1),width2,height2,linewidth=1,edgecolor='r',facecolor='none')\n",
    "\n",
    "# Add the patch to the Axes\n",
    "ax.add_patch(rect1)\n",
    "ax.add_patch(rect2)\n",
    "\n",
    "plt.scatter(xcord,ycord,s=2)\n",
    "plt.show()\n",
    "\n",
    "\n",
    "print('total no. of points = ' + str(len(pts)))\n",
    "print('total no. of points inside rectangle = ' + str(len(inbox)))\n",
    "print('total no. of nearby/threshhold points = ' +str(len(nearbypoints)))\n",
    "print('------------------')\n",
    "print('Points inside rectangle')\n",
    "print(inbox)\n",
    "print('------------------')\n",
    "print('Nearby points')\n",
    "print(nearbypoints)"
   ]
  }
 ],
 "metadata": {
  "kernelspec": {
   "display_name": "Python 3",
   "language": "python",
   "name": "python3"
  },
  "language_info": {
   "codemirror_mode": {
    "name": "ipython",
    "version": 3
   },
   "file_extension": ".py",
   "mimetype": "text/x-python",
   "name": "python",
   "nbconvert_exporter": "python",
   "pygments_lexer": "ipython3",
   "version": "3.7.3"
  }
 },
 "nbformat": 4,
 "nbformat_minor": 2
}
