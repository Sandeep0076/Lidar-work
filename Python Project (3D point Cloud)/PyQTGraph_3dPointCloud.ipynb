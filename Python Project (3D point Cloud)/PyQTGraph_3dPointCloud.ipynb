{
 "cells": [
  {
   "cell_type": "code",
   "execution_count": 1,
   "metadata": {},
   "outputs": [],
   "source": [
    "%gui qt5"
   ]
  },
  {
   "cell_type": "code",
   "execution_count": 2,
   "metadata": {},
   "outputs": [],
   "source": [
    "from pyqtgraph.Qt import QtCore, QtGui\n",
    "import pyqtgraph.opengl as gl\n",
    "import numpy as np\n",
    "import pandas as pd "
   ]
  },
  {
   "cell_type": "code",
   "execution_count": 3,
   "metadata": {},
   "outputs": [],
   "source": [
    "app = QtGui.QApplication([])\n",
    "w = gl.GLViewWidget() #Basic widget for displaying 3D data\n",
    "w.resize(1000,600)\n",
    "w.opts['distance'] = 30 #size of the inner graph\n",
    "w.show()\n",
    "w.setWindowTitle('Visualization of Point Cloud')\n",
    "g = gl.GLGridItem()\n",
    "w.addItem(g)\n"
   ]
  },
  {
   "cell_type": "code",
   "execution_count": 4,
   "metadata": {},
   "outputs": [],
   "source": [
    "file = r\"C:\\Users\\Sandeep\\Documents\\Python Project (3D point Cloud)\\Python Project (3D point Cloud)\\dataset.csv\"\n",
    "readfile = pd.read_csv(file)\n"
   ]
  },
  {
   "cell_type": "code",
   "execution_count": 5,
   "metadata": {},
   "outputs": [],
   "source": [
    "pos = readfile[['X','Y','Z']]\n",
    "df = pd.DataFrame(pos)\n",
    "\n",
    "pos1 = df.to_numpy()\n",
    "lent= pos1.shape[0] \n",
    "size = np.empty((lent))"
   ]
  },
  {
   "cell_type": "code",
   "execution_count": 6,
   "metadata": {},
   "outputs": [],
   "source": [
    "#sp1 = gl.GLScatterPlotItem(pos=pos1,size=size)\n",
    "sp1 = gl.GLScatterPlotItem(pos=pos1)\n",
    "w.addItem(sp1)\n",
    "\n",
    "#sp1.translate(5,5,0) \n",
    "\n",
    "#Translate the object by (dx, dy, dz) in its parent’s coordinate system. \n",
    "#If local is True, then translation takes place in local coordinates.\n",
    "\n",
    "## Start Qt event loop unless running in interactive mode.\n",
    "if __name__ == '__main__':\n",
    "    import sys\n",
    "    if (sys.flags.interactive != 1) or not hasattr(QtCore, 'PYQT_VERSION'):\n",
    "        QtGui.QApplication.instance().exec_()\n"
   ]
  },
  {
   "cell_type": "code",
   "execution_count": null,
   "metadata": {},
   "outputs": [],
   "source": []
  },
  {
   "cell_type": "code",
   "execution_count": null,
   "metadata": {},
   "outputs": [],
   "source": []
  }
 ],
 "metadata": {
  "kernelspec": {
   "display_name": "Python 3",
   "language": "python",
   "name": "python3"
  },
  "language_info": {
   "codemirror_mode": {
    "name": "ipython",
    "version": 3
   },
   "file_extension": ".py",
   "mimetype": "text/x-python",
   "name": "python",
   "nbconvert_exporter": "python",
   "pygments_lexer": "ipython3",
   "version": "3.7.3"
  }
 },
 "nbformat": 4,
 "nbformat_minor": 2
}
