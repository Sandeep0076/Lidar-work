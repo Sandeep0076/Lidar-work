{
 "cells": [
  {
   "cell_type": "code",
   "execution_count": null,
   "metadata": {},
   "outputs": [],
   "source": [
    "%gui qt5"
   ]
  },
  {
   "cell_type": "code",
   "execution_count": null,
   "metadata": {},
   "outputs": [],
   "source": [
    "import pyqtgraph as pg\n",
    "from pyqtgraph.Qt import QtCore, QtGui\n",
    "import numpy as np\n",
    "import pandas as pd "
   ]
  },
  {
   "cell_type": "code",
   "execution_count": null,
   "metadata": {},
   "outputs": [],
   "source": [
    "#pg.setConfigOptions(useOpenGL=True)"
   ]
  },
  {
   "cell_type": "code",
   "execution_count": null,
   "metadata": {},
   "outputs": [],
   "source": [
    "## Create test image to display\n",
    "arr = np.ones((100, 100), dtype=float)\n",
    "arr[45:55, 45:55] = 0\n",
    "arr[25, :] = 5\n",
    "arr[:, 25] = 5    # these displays various line in image\n",
    "arr += np.random.normal(size=(100,100))"
   ]
  },
  {
   "cell_type": "code",
   "execution_count": null,
   "metadata": {},
   "outputs": [],
   "source": [
    "## create GUI\n",
    "app = QtGui.QApplication([])\n",
    "w = pg.GraphicsWindow(size=(1000,800), border=True)\n",
    "w.setWindowTitle('pyqtgraph example for creating rectangle resizable')"
   ]
  },
  {
   "cell_type": "code",
   "execution_count": null,
   "metadata": {},
   "outputs": [],
   "source": [
    "w1 = w.addLayout(row=0, col=0)\n",
    "v1a = w1.addViewBox(row=1, col=0, lockAspect=True) # two different boxes, one displays the image , \n",
    "v1b = w1.addViewBox(row=2, col=0, lockAspect=True) # and the other displays the item selected (would be used to higlight/save the seclcted cordinate)\n",
    "img1a = pg.ImageItem(arr)#image\n",
    "v1a.addItem(img1a) #image displayed in first box\n",
    "img1b = pg.ImageItem()\n",
    "v1b.addItem(img1b)\n",
    "v1a.disableAutoRange('xy')\n",
    "v1b.disableAutoRange('xy')\n",
    "v1a.autoRange()\n",
    "v1b.autoRange()\n",
    "\n",
    "#for creating a rectangle which can be selected , shape can be changed and  \n",
    "rois = []\n",
    "rois.append(pg.RectROI([20, 20], [20, 20], pen=(0,9))) #The pen to use when drawing the shape of the ROI.\n",
    "rois[-1].addRotateHandle([1,0], [0.5, 0.5])\n",
    "\n",
    "\n",
    "#update function for reflecting the changes done in one window into the other\n",
    "def update(roi):\n",
    "    img1b.setImage(roi.getArrayRegion(arr, img1a), levels=(0, arr.max()))\n",
    "    v1b.autoRange()\n",
    "    \n",
    "for roi in rois:\n",
    "    roi.sigRegionChanged.connect(update)\n",
    "    v1a.addItem(roi)\n",
    "\n",
    "update(rois[-1])\n",
    "\n",
    "QtGui.QApplication.instance().exec_()\n"
   ]
  },
  {
   "cell_type": "code",
   "execution_count": null,
   "metadata": {},
   "outputs": [],
   "source": []
  }
 ],
 "metadata": {
  "kernelspec": {
   "display_name": "Python 3",
   "language": "python",
   "name": "python3"
  },
  "language_info": {
   "codemirror_mode": {
    "name": "ipython",
    "version": 3
   },
   "file_extension": ".py",
   "mimetype": "text/x-python",
   "name": "python",
   "nbconvert_exporter": "python",
   "pygments_lexer": "ipython3",
   "version": "3.7.3"
  }
 },
 "nbformat": 4,
 "nbformat_minor": 2
}
