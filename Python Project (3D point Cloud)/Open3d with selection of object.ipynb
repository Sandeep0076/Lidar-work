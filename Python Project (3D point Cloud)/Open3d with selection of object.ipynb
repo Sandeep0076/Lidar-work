{
 "cells": [
  {
   "cell_type": "code",
   "execution_count": 30,
   "metadata": {},
   "outputs": [],
   "source": [
    "import pandas as pd \n",
    "import open3d as o3d\n",
    "import numpy as np\n",
    "import copy"
   ]
  },
  {
   "cell_type": "code",
   "execution_count": 31,
   "metadata": {},
   "outputs": [],
   "source": [
    "file = r\"C:\\Users\\Sandeep\\Documents\\Python Project (3D point Cloud)\\Python Project (3D point Cloud)\\dataset.csv\"\n",
    "readfile = pd.read_csv(file)\n",
    "readfile = readfile[['X','Y','Z']]"
   ]
  },
  {
   "cell_type": "code",
   "execution_count": 32,
   "metadata": {},
   "outputs": [],
   "source": [
    "xyz = np.array(readfile)"
   ]
  },
  {
   "cell_type": "code",
   "execution_count": 33,
   "metadata": {},
   "outputs": [],
   "source": [
    "# Pass xyz to Open3D.o3d.geometry.PointCloud and visualize\n",
    "pcd = o3d.geometry.PointCloud()\n",
    "pcd.points = o3d.utility.Vector3dVector(xyz)\n",
    "o3d.io.write_point_cloud( r\"C:\\Users\\Sandeep\\Documents\\Python Project (3D point Cloud)\\Python Project (3D point Cloud)\\sync.ply\", pcd)\n",
    "\n",
    "# Load saved point cloud and visualize it\n",
    "pcd_load = o3d.io.read_point_cloud(r\"C:\\Users\\Sandeep\\Documents\\Python Project (3D point Cloud)\\Python Project (3D point Cloud)\\sync.ply\")\n",
    "#visualise the cpointcloud\n",
    "#o3d.visualization.draw_geometries([pcd_load])"
   ]
  },
  {
   "cell_type": "code",
   "execution_count": 34,
   "metadata": {},
   "outputs": [
    {
     "name": "stdout",
     "output_type": "stream",
     "text": [
      "1) Press 'K' to lock screen and to switch to selection mode\n",
      "2) Drag for rectangle selection,\n",
      " click and drag for polygon selection\n",
      "3) Press 'C' to get a selected geometry and to save it\n"
     ]
    }
   ],
   "source": [
    "def crop_geometry():\n",
    "    print(\"1) Press 'K' to lock screen and to switch to selection mode\")\n",
    "    print(\"2) Drag for rectangle selection,\")\n",
    "    print(\" click and drag for polygon selection\")\n",
    "    print(\"3) Press 'C' to get a selected geometry and to save it\")\n",
    "    o3d.visualization.draw_geometries_with_editing([pcd_load])\n",
    "\n",
    "if __name__ == \"__main__\":\n",
    "    crop_geometry()"
   ]
  },
  {
   "cell_type": "code",
   "execution_count": null,
   "metadata": {},
   "outputs": [],
   "source": []
  },
  {
   "cell_type": "code",
   "execution_count": null,
   "metadata": {},
   "outputs": [],
   "source": []
  },
  {
   "cell_type": "code",
   "execution_count": null,
   "metadata": {},
   "outputs": [],
   "source": []
  }
 ],
 "metadata": {
  "kernelspec": {
   "display_name": "Python 3",
   "language": "python",
   "name": "python3"
  },
  "language_info": {
   "codemirror_mode": {
    "name": "ipython",
    "version": 3
   },
   "file_extension": ".py",
   "mimetype": "text/x-python",
   "name": "python",
   "nbconvert_exporter": "python",
   "pygments_lexer": "ipython3",
   "version": "3.7.3"
  }
 },
 "nbformat": 4,
 "nbformat_minor": 2
}
