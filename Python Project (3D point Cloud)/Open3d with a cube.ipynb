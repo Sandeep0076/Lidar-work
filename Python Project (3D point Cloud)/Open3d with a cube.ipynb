{
 "cells": [
  {
   "cell_type": "code",
   "execution_count": 8,
   "metadata": {},
   "outputs": [],
   "source": [
    "import pandas as pd \n",
    "import open3d as o3d\n",
    "import numpy as np"
   ]
  },
  {
   "cell_type": "code",
   "execution_count": 9,
   "metadata": {},
   "outputs": [],
   "source": [
    "file = r\"C:\\Users\\Sandeep\\Documents\\Python Project\\Python Project (3D point Cloud)\\dataset.csv\"\n",
    "readfile = pd.read_csv(file)\n",
    "readfile = readfile[['X','Y','Z']]"
   ]
  },
  {
   "cell_type": "code",
   "execution_count": 13,
   "metadata": {},
   "outputs": [
    {
     "data": {
      "text/plain": [
       "array([[ 0.07448859,  9.69954113, -2.59906085],\n",
       "       [ 0.06563043,  8.1744913 ,  0.14269088],\n",
       "       [ 0.114088  , 13.90769037, -3.21095135],\n",
       "       ...,\n",
       "       [ 0.02011627,  8.23267731, -0.43145762],\n",
       "       [ 0.07716954,  8.34219421, -0.43721458],\n",
       "       [ 0.09632382,  9.68204594, -0.1690091 ]])"
      ]
     },
     "execution_count": 13,
     "metadata": {},
     "output_type": "execute_result"
    }
   ],
   "source": [
    "xyz = np.array(readfile)"
   ]
  },
  {
   "cell_type": "code",
   "execution_count": 11,
   "metadata": {},
   "outputs": [],
   "source": [
    "# Pass xyz to Open3D.o3d.geometry.PointCloud and visualize\n",
    "pcd = o3d.geometry.PointCloud()\n",
    "pcd.points = o3d.utility.Vector3dVector(xyz)\n",
    "o3d.io.write_point_cloud( r\"C:\\Users\\Sandeep\\Documents\\Python Project\\Python Project (3D point Cloud)\\sync.ply\", pcd)\n",
    "\n",
    "# Load saved point cloud and visualize it\n",
    "pcd_load = o3d.io.read_point_cloud(r\"C:\\Users\\Sandeep\\Documents\\Python Project\\Python Project (3D point Cloud)\\sync.ply\")\n",
    "#o3d.visualization.draw_geometries([pcd_load])"
   ]
  },
  {
   "cell_type": "code",
   "execution_count": 12,
   "metadata": {},
   "outputs": [],
   "source": [
    "points = [[0, 0, 0], [1, 0, 0], [0, 1, 0], [1, 1, 0], [0, 0, 1], [1, 0, 1],\n",
    "              [0, 1, 1], [1, 1, 1]]\n",
    "lines = [[0, 1], [0, 2], [1, 3], [2, 3], [4, 5], [4, 6], [5, 7], [6, 7],\n",
    "             [0, 4], [1, 5], [2, 6], [3, 7]]\n",
    "colors = [[1, 0, 0] for i in range(len(lines))]\n",
    "line_set = o3d.geometry.LineSet()\n",
    "line_set.points = o3d.utility.Vector3dVector(points)\n",
    "line_set.lines = o3d.utility.Vector2iVector(lines)\n",
    "line_set.colors = o3d.utility.Vector3dVector(colors)\n",
    "o3d.visualization.draw_geometries([pcd_load,line_set])\n"
   ]
  },
  {
   "cell_type": "code",
   "execution_count": null,
   "metadata": {},
   "outputs": [],
   "source": []
  },
  {
   "cell_type": "code",
   "execution_count": null,
   "metadata": {},
   "outputs": [],
   "source": []
  }
 ],
 "metadata": {
  "kernelspec": {
   "display_name": "Python 3",
   "language": "python",
   "name": "python3"
  },
  "language_info": {
   "codemirror_mode": {
    "name": "ipython",
    "version": 3
   },
   "file_extension": ".py",
   "mimetype": "text/x-python",
   "name": "python",
   "nbconvert_exporter": "python",
   "pygments_lexer": "ipython3",
   "version": "3.7.3"
  }
 },
 "nbformat": 4,
 "nbformat_minor": 2
}
