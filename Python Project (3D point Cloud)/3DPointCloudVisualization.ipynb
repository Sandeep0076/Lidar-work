{
 "cells": [
  {
   "cell_type": "markdown",
   "metadata": {},
   "source": [
    "# Visualization of 3D point Cloud "
   ]
  },
  {
   "cell_type": "code",
   "execution_count": 5,
   "metadata": {},
   "outputs": [
    {
     "ename": "FileNotFoundError",
     "evalue": "[Errno 2] No such file or directory: 'C:\\\\Users\\\\Demigod\\\\Documents\\\\Python Project (3D point Cloud)\\\\2011_09_26\\\\2011_09_26_drive_0001_sync\\\\velodyne_points\\\\data\\\\0000000002.bin'",
     "output_type": "error",
     "traceback": [
      "\u001b[1;31m---------------------------------------------------------------------------\u001b[0m",
      "\u001b[1;31mFileNotFoundError\u001b[0m                         Traceback (most recent call last)",
      "\u001b[1;32m<ipython-input-5-7b9452b62ff2>\u001b[0m in \u001b[0;36m<module>\u001b[1;34m\u001b[0m\n\u001b[0;32m      9\u001b[0m \u001b[1;33m\u001b[0m\u001b[0m\n\u001b[0;32m     10\u001b[0m \u001b[1;31m#Load and parse a binary file\u001b[0m\u001b[1;33m\u001b[0m\u001b[1;33m\u001b[0m\u001b[1;33m\u001b[0m\u001b[0m\n\u001b[1;32m---> 11\u001b[1;33m \u001b[0mloadBinaryFile\u001b[0m \u001b[1;33m=\u001b[0m \u001b[0mNumpyPackage\u001b[0m\u001b[1;33m.\u001b[0m\u001b[0mfromfile\u001b[0m\u001b[1;33m(\u001b[0m\u001b[0mbinaryfile\u001b[0m\u001b[1;33m,\u001b[0m \u001b[0mdtype\u001b[0m\u001b[1;33m=\u001b[0m \u001b[0mNumpyPackage\u001b[0m\u001b[1;33m.\u001b[0m\u001b[0mfloat32\u001b[0m\u001b[1;33m)\u001b[0m\u001b[1;33m\u001b[0m\u001b[1;33m\u001b[0m\u001b[0m\n\u001b[0m\u001b[0;32m     12\u001b[0m \u001b[1;33m\u001b[0m\u001b[0m\n\u001b[0;32m     13\u001b[0m \u001b[1;31m#[x,y,z,reflectance]\u001b[0m\u001b[1;33m\u001b[0m\u001b[1;33m\u001b[0m\u001b[1;33m\u001b[0m\u001b[0m\n",
      "\u001b[1;31mFileNotFoundError\u001b[0m: [Errno 2] No such file or directory: 'C:\\\\Users\\\\Demigod\\\\Documents\\\\Python Project (3D point Cloud)\\\\2011_09_26\\\\2011_09_26_drive_0001_sync\\\\velodyne_points\\\\data\\\\0000000002.bin'"
     ]
    }
   ],
   "source": [
    "\n",
    "binaryfile = r\"C:\\Users\\Demigod\\Documents\\\\Python Project (3D point Cloud)\\Python Project (3D point Cloud)\\2019-01-18-10-59-18_Velodyne-VLP-16-Data-WestSideOurBuilding-csv_1To2000 (Frame 0001)\"\n",
    "import numpy as NumpyPackage\n",
    "import pandas as PandaPackage\n",
    "import matplotlib.pyplot as plt\n",
    "import matplotlib.tri as mtri\n",
    "from mpl_toolkits.mplot3d import Axes3D\n",
    "%matplotlib notebook\n",
    "\n",
    "#Load and parse a binary file\n",
    "loadBinaryFile = NumpyPackage.fromfile(binaryfile, dtype= NumpyPackage.float32)\n",
    "\n",
    "#[x,y,z,reflectance]\n",
    "Shape_Data_into_Array_of4 = loadBinaryFile.reshape((-1,4))\n",
    "\n",
    "#Take out only x,y,z axis from the array\n",
    "Shape_Data_into_Array_of3 = Shape_Data_into_Array_of4[:,[0,1,2]]\n",
    "\n",
    "print('Total no. of Points in this cloud = '+ str(Shape_Data_into_Array_of3.shape))\n",
    "\n",
    "# Select every 100th array of point to avoid clutter\n",
    "pointsRange = range(0, Shape_Data_into_Array_of3.shape[0],50)\n",
    "# Selecting  individual axis\n",
    "XaxisToPlot = Shape_Data_into_Array_of3[pointsRange,0]\n",
    "YaxisToPlot = Shape_Data_into_Array_of3[pointsRange,1]\n",
    "ZaxisToPlot = Shape_Data_into_Array_of3[pointsRange,2]\n",
    "\n",
    "figuretoshow = plt.figure(figsize=(10,6))\n",
    "axis1 = figuretoshow.add_subplot(121, projection='3d') \n",
    "axis2 = figuretoshow.add_subplot(122, projection='3d') \n",
    "\n",
    "# For slightly transparent Z axis use the  argument 'c' as written below \n",
    "#axis1.scatter3D(XaxisToPlot,YaxisToPlot,ZaxisToPlot,c=ZaxisToPlot,cmap='Greens')\n",
    "axis1.scatter3D(XaxisToPlot,YaxisToPlot,ZaxisToPlot,c='Green')\n",
    "axis1.set(title=\"Scattered Style\", xlabel=\"X axis\", ylabel=\"Y axis\", zlabel='Z axis')\n",
    "\n",
    "\n",
    "axis2.scatter3D(XaxisToPlot,YaxisToPlot,ZaxisToPlot,c='Green')\n",
    "axis2.plot_trisurf(XaxisToPlot,YaxisToPlot,ZaxisToPlot,cmap='viridis', edgecolor='none' )\n",
    "axis2.set(title=\"Tri plot color Style\", xlabel=\"X axis\", ylabel=\"Y axis\", zlabel='Z axis')\n",
    "\n",
    "\n",
    "plt.show()"
   ]
  },
  {
   "cell_type": "code",
   "execution_count": null,
   "metadata": {},
   "outputs": [],
   "source": [
    "len(XaxisToPlot)"
   ]
  },
  {
   "cell_type": "code",
   "execution_count": null,
   "metadata": {},
   "outputs": [],
   "source": [
    "type(XaxisToPlot)"
   ]
  },
  {
   "cell_type": "code",
   "execution_count": null,
   "metadata": {},
   "outputs": [],
   "source": [
    "XaxisToPlot.dtype"
   ]
  },
  {
   "cell_type": "code",
   "execution_count": null,
   "metadata": {},
   "outputs": [],
   "source": [
    "Shape_Data_into_Array_of3[0]"
   ]
  },
  {
   "cell_type": "code",
   "execution_count": 3,
   "metadata": {},
   "outputs": [
    {
     "ename": "NameError",
     "evalue": "name 'Xaxis' is not defined",
     "output_type": "error",
     "traceback": [
      "\u001b[1;31m---------------------------------------------------------------------------\u001b[0m",
      "\u001b[1;31mNameError\u001b[0m                                 Traceback (most recent call last)",
      "\u001b[1;32m<ipython-input-3-9f2b1414962f>\u001b[0m in \u001b[0;36m<module>\u001b[1;34m\u001b[0m\n\u001b[1;32m----> 1\u001b[1;33m \u001b[0mXaxis\u001b[0m\u001b[1;33m\u001b[0m\u001b[1;33m\u001b[0m\u001b[0m\n\u001b[0m",
      "\u001b[1;31mNameError\u001b[0m: name 'Xaxis' is not defined"
     ]
    }
   ],
   "source": [
    "Xaxis"
   ]
  }
 ],
 "metadata": {
  "kernelspec": {
   "display_name": "Python 3",
   "language": "python",
   "name": "python3"
  },
  "language_info": {
   "codemirror_mode": {
    "name": "ipython",
    "version": 3
   },
   "file_extension": ".py",
   "mimetype": "text/x-python",
   "name": "python",
   "nbconvert_exporter": "python",
   "pygments_lexer": "ipython3",
   "version": "3.7.3"
  },
  "varInspector": {
   "cols": {
    "lenName": 16,
    "lenType": 16,
    "lenVar": 40
   },
   "kernels_config": {
    "python": {
     "delete_cmd_postfix": "",
     "delete_cmd_prefix": "del ",
     "library": "var_list.py",
     "varRefreshCmd": "print(var_dic_list())"
    },
    "r": {
     "delete_cmd_postfix": ") ",
     "delete_cmd_prefix": "rm(",
     "library": "var_list.r",
     "varRefreshCmd": "cat(var_dic_list()) "
    }
   },
   "types_to_exclude": [
    "module",
    "function",
    "builtin_function_or_method",
    "instance",
    "_Feature"
   ],
   "window_display": false
  }
 },
 "nbformat": 4,
 "nbformat_minor": 2
}
