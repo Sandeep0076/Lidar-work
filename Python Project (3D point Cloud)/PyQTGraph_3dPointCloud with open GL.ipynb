{
 "cells": [
  {
   "cell_type": "code",
   "execution_count": 7,
   "metadata": {},
   "outputs": [],
   "source": [
    "%gui qt5"
   ]
  },
  {
   "cell_type": "code",
   "execution_count": 8,
   "metadata": {},
   "outputs": [],
   "source": [
    "from pyqtgraph.Qt import QtCore, QtGui\n",
    "import pyqtgraph.opengl as gl\n",
    "import numpy as np\n",
    "import pandas as pd \n",
    "import pyqtgraph as pg"
   ]
  },
  {
   "cell_type": "code",
   "execution_count": 9,
   "metadata": {},
   "outputs": [],
   "source": [
    "app = QtGui.QApplication([])\n",
    "w = gl.GLViewWidget() #Basic widget for displaying 3D data\n",
    "w.resize(1000,600)\n",
    "w.opts['distance'] = 30 #size of the inner graph\n",
    "w.show()\n",
    "w.setWindowTitle('Visualization of Point Cloud')\n",
    "g = gl.GLGridItem() #Displays a wire-grame grid.\n",
    "w.addItem(g)\n"
   ]
  },
  {
   "cell_type": "code",
   "execution_count": null,
   "metadata": {},
   "outputs": [],
   "source": [
    "file = r\"C:\\Users\\Sandeep\\Documents\\Python Project (3D point Cloud)\\Python Project (3D point Cloud)\\dataset.csv\"\n",
    "readfile = pd.read_csv(file)\n"
   ]
  },
  {
   "cell_type": "code",
   "execution_count": null,
   "metadata": {},
   "outputs": [],
   "source": [
    "pos = readfile[['X','Y','Z']]\n",
    "df = pd.DataFrame(pos)\n",
    "pos1 = df.to_numpy()\n",
    "lent= pos1.shape[0] \n",
    "size = np.empty((lent))"
   ]
  },
  {
   "cell_type": "code",
   "execution_count": null,
   "metadata": {},
   "outputs": [
    {
     "data": {
      "text/plain": [
       "<pyqtgraph.graphicsItems.ROI.Handle at 0x224897b19d8>"
      ]
     },
     "execution_count": 12,
     "metadata": {},
     "output_type": "execute_result"
    }
   ],
   "source": [
    "#rectange\n",
    "rois = []\n",
    "rois.append(pg.RectROI([20, 20], [20, 20], pen=(0,9))) #The pen to use when drawing the shape of the ROI.\n",
    "rois[-1].addRotateHandle([1,0], [0.5, 0.5])"
   ]
  },
  {
   "cell_type": "code",
   "execution_count": null,
   "metadata": {},
   "outputs": [],
   "source": [
    "#sp1 = gl.GLScatterPlotItem(pos=pos1,size=size)\n",
    "sp1 = gl.GLScatterPlotItem(pos=pos1)\n",
    "w.addItem(sp1)\n",
    "QtGui.QApplication.instance().exec_()\n"
   ]
  }
 ],
 "metadata": {
  "kernelspec": {
   "display_name": "Python 3",
   "language": "python",
   "name": "python3"
  },
  "language_info": {
   "codemirror_mode": {
    "name": "ipython",
    "version": 3
   },
   "file_extension": ".py",
   "mimetype": "text/x-python",
   "name": "python",
   "nbconvert_exporter": "python",
   "pygments_lexer": "ipython3",
   "version": "3.7.3"
  }
 },
 "nbformat": 4,
 "nbformat_minor": 2
}
