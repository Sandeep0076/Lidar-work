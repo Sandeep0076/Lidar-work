{
 "cells": [
  {
   "cell_type": "code",
   "execution_count": 1,
   "metadata": {},
   "outputs": [],
   "source": [
    "import pandas as pd \n",
    "import open3d as o3d\n",
    "import numpy as np"
   ]
  },
  {
   "cell_type": "code",
   "execution_count": 2,
   "metadata": {},
   "outputs": [],
   "source": [
    "file = r\"C:\\Users\\Sandeep\\Documents\\Python Project (3D point Cloud)\\Python Project (3D point Cloud)\\dataset.csv\"\n",
    "readfile = pd.read_csv(file)\n",
    "readfile = readfile[['X','Y','Z']]"
   ]
  },
  {
   "cell_type": "code",
   "execution_count": 3,
   "metadata": {},
   "outputs": [],
   "source": [
    "xyz = np.array(readfile)"
   ]
  },
  {
   "cell_type": "code",
   "execution_count": 4,
   "metadata": {},
   "outputs": [],
   "source": [
    "# Pass xyz to Open3D.o3d.geometry.PointCloud and visualize\n",
    "pcd = o3d.geometry.PointCloud()\n",
    "pcd.points = o3d.utility.Vector3dVector(xyz)\n",
    "o3d.io.write_point_cloud( r\"C:\\Users\\Sandeep\\Documents\\Python Project (3D point Cloud)\\Python Project (3D point Cloud)\\sync.ply\", pcd)\n",
    "\n",
    "# Load saved point cloud and visualize it\n",
    "#pcd_load = o3d.io.read_point_cloud(r\"C:\\Users\\Sandeep\\Documents\\Python Project (3D point Cloud)\\Python Project (3D point Cloud)\\sync.ply\")\n",
    "#o3d.visualization.draw_geometries([pcd_load])\n",
    "pcd.paint_uniform_color([0.5, 0.5, 0.5])\n",
    "pcd_tree = o3d.geometry.KDTreeFlann(pcd)"
   ]
  },
  {
   "cell_type": "code",
   "execution_count": 5,
   "metadata": {},
   "outputs": [
    {
     "name": "stdout",
     "output_type": "stream",
     "text": [
      "\n",
      "Visualize the point cloud.\n"
     ]
    }
   ],
   "source": [
    "def pick_points():\n",
    "    print(\"\")\n",
    "    \n",
    "    \"\"\"[shift + left click] for picking point\n",
    "    [shift + right click] to undo point picking\n",
    "     q for close the window\"\"\"\n",
    "    \n",
    "    vis = o3d.visualization.VisualizerWithEditing()\n",
    "    #Function to create a window and initialize GLFW\n",
    "    vis.create_window()\n",
    "    #Function to add geometry to the scene and create corresponding shaders\n",
    "    vis.add_geometry(pcd)\n",
    "    #Function to activate the window\n",
    "    vis.run()  # user picks points\n",
    "    vis.destroy_window()\n",
    "    return vis.get_picked_points()\n",
    "    \n",
    "savedindex = pick_points()\n",
    "#small function to convert list into int\n",
    "def convert(savedindex): \n",
    "    res = int(\"\".join(map(str, savedindex)))    \n",
    "    return res \n",
    "s = (convert(savedindex)) \n",
    "pcd.colors[s] = [1, 0, 0]\n",
    "#\"Find its 150 nearest neighbors, paint blue.\"\n",
    "[k, idx, _] = pcd_tree.search_knn_vector_3d(pcd.points[s], 150)\n",
    "np.asarray(pcd.colors)[idx[1:], :] = [0, 0, 1]\n",
    "\n",
    "#\"Find its neighbors with distance less than 0.2, paint green.\"\n",
    "[k, idx, _] = pcd_tree.search_radius_vector_3d(pcd.points[s], 3)\n",
    "np.asarray(pcd.colors)[idx[1:], :] = [0, 1, 0]\n",
    "\n",
    "print(\"Visualize the point cloud.\")\n",
    "o3d.visualization.draw_geometries([pcd])\n"
   ]
  },
  {
   "cell_type": "code",
   "execution_count": null,
   "metadata": {},
   "outputs": [],
   "source": []
  },
  {
   "cell_type": "code",
   "execution_count": null,
   "metadata": {},
   "outputs": [],
   "source": []
  },
  {
   "cell_type": "code",
   "execution_count": null,
   "metadata": {},
   "outputs": [],
   "source": []
  },
  {
   "cell_type": "code",
   "execution_count": null,
   "metadata": {},
   "outputs": [],
   "source": []
  }
 ],
 "metadata": {
  "kernelspec": {
   "display_name": "Python 3",
   "language": "python",
   "name": "python3"
  },
  "language_info": {
   "codemirror_mode": {
    "name": "ipython",
    "version": 3
   },
   "file_extension": ".py",
   "mimetype": "text/x-python",
   "name": "python",
   "nbconvert_exporter": "python",
   "pygments_lexer": "ipython3",
   "version": "3.7.3"
  }
 },
 "nbformat": 4,
 "nbformat_minor": 2
}
